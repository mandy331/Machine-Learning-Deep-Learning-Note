{
 "cells": [
  {
   "cell_type": "code",
   "execution_count": 1,
   "metadata": {},
   "outputs": [],
   "source": [
    "import requests\n",
    "from bs4 import BeautifulSoup\n",
    "import pandas as pd\n",
    "from tqdm import tqdm_notebook\n",
    "import datetime\n",
    "import re\n",
    "import time\n",
    "import matplotlib.pyplot as plt\n",
    "import seaborn as sns"
   ]
  },
  {
   "cell_type": "markdown",
   "metadata": {},
   "source": [
    "## 讀取BBC. UDN. HK01"
   ]
  },
  {
   "cell_type": "code",
   "execution_count": 2,
   "metadata": {},
   "outputs": [],
   "source": [
    "hk = pd.read_csv(\"Data_class/香港01.csv\")\n",
    "udn = pd.read_csv(\"Data_class/UDN.csv\")\n",
    "bbc = pd.read_csv(\"Data_class/BBC.csv\")"
   ]
  },
  {
   "cell_type": "code",
   "execution_count": 3,
   "metadata": {
    "scrolled": false
   },
   "outputs": [
    {
     "name": "stdout",
     "output_type": "stream",
     "text": [
      "2019-11-27 15:20:47\n",
      "2019-11-30\n",
      "2019-03-31\n"
     ]
    }
   ],
   "source": [
    "print(bbc[\"日期\"][0])\n",
    "print(udn[\"日期\"][0])\n",
    "print(hk[\"日期\"][0])"
   ]
  },
  {
   "cell_type": "code",
   "execution_count": 4,
   "metadata": {},
   "outputs": [],
   "source": [
    "def to_date1(each_row):\n",
    "    b = datetime.datetime.strptime(each_row, \"%Y-%m-%d %H:%M:%S\")\n",
    "    return b\n",
    "def to_date2(each_row):\n",
    "    c = datetime.datetime.strptime(each_row, \"%Y-%m-%d\")\n",
    "    return c\n",
    "\n",
    "bbc[\"日期\"] = bbc[\"日期\"].apply(to_date1, 1)\n",
    "udn[\"日期\"] = udn[\"日期\"].apply(to_date2, 1)\n",
    "hk[\"日期\"] = hk[\"日期\"].apply(to_date2, 1)"
   ]
  },
  {
   "cell_type": "markdown",
   "metadata": {},
   "source": [
    "## Jieba斷詞(有自建辭典)"
   ]
  },
  {
   "cell_type": "code",
   "execution_count": 5,
   "metadata": {
    "scrolled": true
   },
   "outputs": [
    {
     "name": "stderr",
     "output_type": "stream",
     "text": [
      "Building prefix dict from the default dictionary ...\n",
      "Loading model from cache /var/folders/9t/t_r18jtx2t17njq7cpc2q1d80000gn/T/jieba.cache\n",
      "Loading model cost 1.064 seconds.\n",
      "Prefix dict has been built succesfully.\n"
     ]
    }
   ],
   "source": [
    "import jieba\n",
    "jieba.load_userdict(\"dict2.txt\")"
   ]
  },
  {
   "cell_type": "code",
   "execution_count": 6,
   "metadata": {},
   "outputs": [
    {
     "data": {
      "application/vnd.jupyter.widget-view+json": {
       "model_id": "a036c0f450834d939437c179e6ac1b11",
       "version_major": 2,
       "version_minor": 0
      },
      "text/plain": [
       "HBox(children=(IntProgress(value=0, max=1570), HTML(value='')))"
      ]
     },
     "metadata": {},
     "output_type": "display_data"
    },
    {
     "name": "stdout",
     "output_type": "stream",
     "text": [
      "\n"
     ]
    },
    {
     "data": {
      "application/vnd.jupyter.widget-view+json": {
       "model_id": "5d888afe04cc4ba596f16f5edabe2c05",
       "version_major": 2,
       "version_minor": 0
      },
      "text/plain": [
       "HBox(children=(IntProgress(value=0, max=3432), HTML(value='')))"
      ]
     },
     "metadata": {},
     "output_type": "display_data"
    },
    {
     "name": "stdout",
     "output_type": "stream",
     "text": [
      "\n"
     ]
    },
    {
     "data": {
      "application/vnd.jupyter.widget-view+json": {
       "model_id": "1cb432252c0b4c218edfd89c300a7cb3",
       "version_major": 2,
       "version_minor": 0
      },
      "text/plain": [
       "HBox(children=(IntProgress(value=0, max=376), HTML(value='')))"
      ]
     },
     "metadata": {},
     "output_type": "display_data"
    },
    {
     "name": "stdout",
     "output_type": "stream",
     "text": [
      "\n"
     ]
    }
   ],
   "source": [
    "def parsing_jieba(row):\n",
    "    stop_list = [line[:-1] for line in open(\"stop_words.txt\")]\n",
    "    sentence = \"\"\n",
    "    words = []\n",
    "    for k in jieba.cut(row, cut_all = False):\n",
    "        if k not in stop_list and k  != ' ':\n",
    "            sentence = sentence + \" \" + k\n",
    "            words.append(k)\n",
    "    return sentence, words\n",
    "jieba_segment1, jieba_segment2 = [], []\n",
    "for i in tqdm_notebook(range(len(hk))):\n",
    "    s, w = parsing_jieba(hk[\"內容\"][i])\n",
    "    jieba_segment1.append(s)\n",
    "    jieba_segment2.append(w)\n",
    "jieba_segment3, jieba_segment4 = [], []\n",
    "for i in tqdm_notebook(range(len(udn))):\n",
    "    s, w = parsing_jieba(udn[\"內容\"][i])\n",
    "    jieba_segment3.append(s)\n",
    "    jieba_segment4.append(w)\n",
    "jieba_segment5, jieba_segment6 = [], []\n",
    "for i in tqdm_notebook(range(len(bbc))):\n",
    "    s, w = parsing_jieba(bbc[\"內容\"][i])\n",
    "    jieba_segment5.append(s)\n",
    "    jieba_segment6.append(w)"
   ]
  },
  {
   "cell_type": "code",
   "execution_count": 7,
   "metadata": {},
   "outputs": [],
   "source": [
    "hk['jieba_sentence'], hk['jieba_list'] = jieba_segment1, jieba_segment2\n",
    "udn['jieba_sentence'], udn['jieba_list'] = jieba_segment3, jieba_segment4\n",
    "bbc['jieba_sentence'], bbc['jieba_list'] = jieba_segment5, jieba_segment6"
   ]
  },
  {
   "cell_type": "code",
   "execution_count": 8,
   "metadata": {},
   "outputs": [],
   "source": [
    "def train_test(df):\n",
    "    train = df[df['立場'].isna() != True].reset_index(drop=True)\n",
    "    test = df[df['立場'].isna() == True].reset_index(drop=True)\n",
    "    return train, test\n",
    "hk_train, hk_test = train_test(hk)\n",
    "udn_train, udn_test = train_test(udn)\n",
    "bbc_train, bbc_test = train_test(bbc)"
   ]
  },
  {
   "cell_type": "markdown",
   "metadata": {},
   "source": [
    "## 畫圖"
   ]
  },
  {
   "cell_type": "code",
   "execution_count": 11,
   "metadata": {
    "scrolled": true
   },
   "outputs": [
    {
     "name": "stderr",
     "output_type": "stream",
     "text": [
      "/anaconda3/lib/python3.7/site-packages/ipykernel_launcher.py:4: FutureWarning: Sorting because non-concatenation axis is not aligned. A future version\n",
      "of pandas will change to not sort by default.\n",
      "\n",
      "To accept the future behavior, pass 'sort=False'.\n",
      "\n",
      "To retain the current behavior and silence the warning, pass 'sort=True'.\n",
      "\n",
      "  after removing the cwd from sys.path.\n"
     ]
    }
   ],
   "source": [
    "hk_train['新聞媒體'] = \"香港01\"\n",
    "udn_train['新聞媒體'] = \"UDN\"\n",
    "bbc_train['新聞媒體'] = \"BBC中文\"\n",
    "all_train =  pd.concat([hk_train, udn_train, bbc_train], axis = 0)\n"
   ]
  },
  {
   "cell_type": "code",
   "execution_count": 12,
   "metadata": {
    "scrolled": true
   },
   "outputs": [
    {
     "data": {
      "text/html": [
       "<div>\n",
       "<style scoped>\n",
       "    .dataframe tbody tr th:only-of-type {\n",
       "        vertical-align: middle;\n",
       "    }\n",
       "\n",
       "    .dataframe tbody tr th {\n",
       "        vertical-align: top;\n",
       "    }\n",
       "\n",
       "    .dataframe thead th {\n",
       "        text-align: right;\n",
       "    }\n",
       "</style>\n",
       "<table border=\"1\" class=\"dataframe\">\n",
       "  <thead>\n",
       "    <tr style=\"text-align: right;\">\n",
       "      <th></th>\n",
       "      <th></th>\n",
       "      <th>Url</th>\n",
       "      <th>jieba_list</th>\n",
       "      <th>jieba_sentence</th>\n",
       "      <th>內容</th>\n",
       "      <th>搜尋</th>\n",
       "      <th>日期</th>\n",
       "      <th>標籤</th>\n",
       "      <th>標題</th>\n",
       "    </tr>\n",
       "    <tr>\n",
       "      <th>新聞媒體</th>\n",
       "      <th>立場</th>\n",
       "      <th></th>\n",
       "      <th></th>\n",
       "      <th></th>\n",
       "      <th></th>\n",
       "      <th></th>\n",
       "      <th></th>\n",
       "      <th></th>\n",
       "      <th></th>\n",
       "    </tr>\n",
       "  </thead>\n",
       "  <tbody>\n",
       "    <tr>\n",
       "      <th rowspan=\"3\" valign=\"top\">BBC中文</th>\n",
       "      <th>0.0</th>\n",
       "      <td>42</td>\n",
       "      <td>42</td>\n",
       "      <td>42</td>\n",
       "      <td>42</td>\n",
       "      <td>42</td>\n",
       "      <td>42</td>\n",
       "      <td>42</td>\n",
       "      <td>42</td>\n",
       "    </tr>\n",
       "    <tr>\n",
       "      <th>1.0</th>\n",
       "      <td>117</td>\n",
       "      <td>117</td>\n",
       "      <td>117</td>\n",
       "      <td>117</td>\n",
       "      <td>117</td>\n",
       "      <td>117</td>\n",
       "      <td>117</td>\n",
       "      <td>117</td>\n",
       "    </tr>\n",
       "    <tr>\n",
       "      <th>2.0</th>\n",
       "      <td>78</td>\n",
       "      <td>78</td>\n",
       "      <td>78</td>\n",
       "      <td>78</td>\n",
       "      <td>78</td>\n",
       "      <td>78</td>\n",
       "      <td>78</td>\n",
       "      <td>78</td>\n",
       "    </tr>\n",
       "    <tr>\n",
       "      <th rowspan=\"3\" valign=\"top\">UDN</th>\n",
       "      <th>0.0</th>\n",
       "      <td>480</td>\n",
       "      <td>480</td>\n",
       "      <td>480</td>\n",
       "      <td>480</td>\n",
       "      <td>480</td>\n",
       "      <td>480</td>\n",
       "      <td>480</td>\n",
       "      <td>480</td>\n",
       "    </tr>\n",
       "    <tr>\n",
       "      <th>1.0</th>\n",
       "      <td>596</td>\n",
       "      <td>596</td>\n",
       "      <td>596</td>\n",
       "      <td>596</td>\n",
       "      <td>596</td>\n",
       "      <td>596</td>\n",
       "      <td>596</td>\n",
       "      <td>596</td>\n",
       "    </tr>\n",
       "    <tr>\n",
       "      <th>2.0</th>\n",
       "      <td>683</td>\n",
       "      <td>683</td>\n",
       "      <td>683</td>\n",
       "      <td>683</td>\n",
       "      <td>683</td>\n",
       "      <td>683</td>\n",
       "      <td>683</td>\n",
       "      <td>683</td>\n",
       "    </tr>\n",
       "    <tr>\n",
       "      <th rowspan=\"3\" valign=\"top\">香港01</th>\n",
       "      <th>0.0</th>\n",
       "      <td>193</td>\n",
       "      <td>193</td>\n",
       "      <td>193</td>\n",
       "      <td>193</td>\n",
       "      <td>193</td>\n",
       "      <td>193</td>\n",
       "      <td>193</td>\n",
       "      <td>193</td>\n",
       "    </tr>\n",
       "    <tr>\n",
       "      <th>1.0</th>\n",
       "      <td>405</td>\n",
       "      <td>405</td>\n",
       "      <td>405</td>\n",
       "      <td>405</td>\n",
       "      <td>405</td>\n",
       "      <td>405</td>\n",
       "      <td>405</td>\n",
       "      <td>405</td>\n",
       "    </tr>\n",
       "    <tr>\n",
       "      <th>2.0</th>\n",
       "      <td>235</td>\n",
       "      <td>235</td>\n",
       "      <td>235</td>\n",
       "      <td>235</td>\n",
       "      <td>235</td>\n",
       "      <td>235</td>\n",
       "      <td>235</td>\n",
       "      <td>235</td>\n",
       "    </tr>\n",
       "  </tbody>\n",
       "</table>\n",
       "</div>"
      ],
      "text/plain": [
       "           Url  jieba_list  jieba_sentence   內容   搜尋   日期   標籤   標題\n",
       "新聞媒體  立場                                                           \n",
       "BBC中文 0.0   42          42              42   42   42   42   42   42\n",
       "      1.0  117         117             117  117  117  117  117  117\n",
       "      2.0   78          78              78   78   78   78   78   78\n",
       "UDN   0.0  480         480             480  480  480  480  480  480\n",
       "      1.0  596         596             596  596  596  596  596  596\n",
       "      2.0  683         683             683  683  683  683  683  683\n",
       "香港01  0.0  193         193             193  193  193  193  193  193\n",
       "      1.0  405         405             405  405  405  405  405  405\n",
       "      2.0  235         235             235  235  235  235  235  235"
      ]
     },
     "execution_count": 12,
     "metadata": {},
     "output_type": "execute_result"
    }
   ],
   "source": [
    "all_train.groupby([\"新聞媒體\",\"立場\"]).count()"
   ]
  },
  {
   "cell_type": "code",
   "execution_count": 13,
   "metadata": {},
   "outputs": [
    {
     "data": {
      "image/png": "[encoded data removed]",
      "text/plain": [
       "<Figure size 432x288 with 1 Axes>"
      ]
     },
     "metadata": {
      "needs_background": "light"
     },
     "output_type": "display_data"
    }
   ],
   "source": [
    "import pandas as pd\n",
    "import matplotlib.pyplot as plt\n",
    "\n",
    "df = pd.DataFrame([['反對','香港01',193],['中立','香港01',405],['支持','香港01',235],['反對','UDN',480],\n",
    "                   ['中立','UDN',596],['支持','UDN',683], ['反對','BBC中文',42],\n",
    "                   ['中立','BBC中文',117],['支持','BBC中文',78]],columns=['立場','新聞媒體','個數'])\n",
    "\n",
    "fig = df.pivot(\"新聞媒體\", \"立場\", \"個數\").plot(kind='bar')\n",
    "fig.figure.savefig(\"all.png\")\n",
    "plt.show()"
   ]
  },
  {
   "cell_type": "markdown",
   "metadata": {},
   "source": [
    "## Token"
   ]
  },
  {
   "cell_type": "code",
   "execution_count": 14,
   "metadata": {
    "scrolled": false
   },
   "outputs": [],
   "source": [
    "import keras\n",
    "MAX_NUM_WORDS = 10000\n",
    "tokenizer = keras.preprocessing.text.Tokenizer(num_words=MAX_NUM_WORDS)"
   ]
  },
  {
   "cell_type": "code",
   "execution_count": 15,
   "metadata": {},
   "outputs": [
    {
     "data": {
      "text/plain": [
       "(2829,)"
      ]
     },
     "execution_count": 15,
     "metadata": {},
     "output_type": "execute_result"
    }
   ],
   "source": [
    "corpus_hk = hk_train['jieba_sentence']\n",
    "corpus_udn = udn_train['jieba_sentence']\n",
    "corpus_bbc = bbc_train['jieba_sentence']\n",
    "corpus = pd.concat([corpus_hk, corpus_udn, corpus_bbc], axis = 0)\n",
    "corpus = corpus.reset_index(drop = True)\n",
    "corpus.shape"
   ]
  },
  {
   "cell_type": "code",
   "execution_count": 16,
   "metadata": {},
   "outputs": [],
   "source": [
    "tokenizer.fit_on_texts(corpus)"
   ]
  },
  {
   "cell_type": "code",
   "execution_count": 17,
   "metadata": {},
   "outputs": [],
   "source": [
    "hk_train_corpus = tokenizer.texts_to_sequences(corpus_hk)\n",
    "udn_train_corpus = tokenizer.texts_to_sequences(corpus_udn)\n",
    "bbc_train_corpus = tokenizer.texts_to_sequences(corpus_bbc)"
   ]
  },
  {
   "cell_type": "markdown",
   "metadata": {},
   "source": [
    "## 將Token轉成一樣長的"
   ]
  },
  {
   "cell_type": "code",
   "execution_count": 14,
   "metadata": {
    "scrolled": false
   },
   "outputs": [
    {
     "name": "stdout",
     "output_type": "stream",
     "text": [
      "3200\n",
      "1243\n",
      "1544\n"
     ]
    }
   ],
   "source": [
    "hk_max_seq_len = max([len(seq) for seq in hk_train_corpus])\n",
    "udn_max_seq_len = max([len(seq) for seq in udn_train_corpus])\n",
    "bbc_max_seq_len = max([len(seq) for seq in bbc_train_corpus])\n",
    "print(hk_max_seq_len)\n",
    "print(udn_max_seq_len)\n",
    "print(bbc_max_seq_len)"
   ]
  },
  {
   "cell_type": "code",
   "execution_count": 15,
   "metadata": {},
   "outputs": [],
   "source": [
    "MAX_SEQUENCE_LENGTH = 500\n",
    "hk_train_corpus = keras \\\n",
    "    .preprocessing \\\n",
    "    .sequence \\\n",
    "    .pad_sequences(hk_train_corpus, \n",
    "                   maxlen=MAX_SEQUENCE_LENGTH)\n",
    "\n",
    "udn_train_corpus = keras \\\n",
    "    .preprocessing \\\n",
    "    .sequence \\\n",
    "    .pad_sequences(udn_train_corpus, \n",
    "                   maxlen=MAX_SEQUENCE_LENGTH)\n",
    "\n",
    "bbc_train_corpus = keras \\\n",
    "    .preprocessing \\\n",
    "    .sequence \\\n",
    "    .pad_sequences(bbc_train_corpus, \n",
    "                   maxlen=MAX_SEQUENCE_LENGTH)"
   ]
  },
  {
   "cell_type": "code",
   "execution_count": 16,
   "metadata": {},
   "outputs": [
    {
     "name": "stdout",
     "output_type": "stream",
     "text": [
      "3089\n",
      "1028\n",
      "1947\n"
     ]
    }
   ],
   "source": [
    "corpus_hk_test = hk_test['jieba_sentence']\n",
    "corpus_udn_test = udn_test['jieba_sentence']\n",
    "corpus_bbc_test = bbc_test['jieba_sentence']\n",
    "corpus_test = pd.concat([corpus_hk_test, corpus_udn_test, corpus_bbc_test], axis = 0)\n",
    "corpus_test = corpus_test.reset_index(drop = True)\n",
    "corpus_test.shape\n",
    "tokenizer.fit_on_texts(corpus_test)\n",
    "hk_test_corpus = tokenizer.texts_to_sequences(corpus_hk_test)\n",
    "udn_test_corpus = tokenizer.texts_to_sequences(corpus_udn_test)\n",
    "bbc_test_corpus = tokenizer.texts_to_sequences(corpus_bbc_test)\n",
    "hk_max_seq_test_len = max([len(seq) for seq in hk_test_corpus])\n",
    "udn_max_seq_test_len = max([len(seq) for seq in udn_test_corpus])\n",
    "bbc_max_seq_test_len = max([len(seq) for seq in bbc_test_corpus])\n",
    "print(hk_max_seq_test_len)\n",
    "print(udn_max_seq_test_len)\n",
    "print(bbc_max_seq_test_len)\n",
    "\n",
    "MAX_SEQUENCE_LENGTH = 500\n",
    "hk_test_corpus = keras \\\n",
    "    .preprocessing \\\n",
    "    .sequence \\\n",
    "    .pad_sequences(hk_test_corpus, \n",
    "                   maxlen=MAX_SEQUENCE_LENGTH)\n",
    "\n",
    "udn_test_corpus = keras \\\n",
    "    .preprocessing \\\n",
    "    .sequence \\\n",
    "    .pad_sequences(udn_test_corpus, \n",
    "                   maxlen=MAX_SEQUENCE_LENGTH)\n",
    "\n",
    "bbc_test_corpus = keras \\\n",
    "    .preprocessing \\\n",
    "    .sequence \\\n",
    "    .pad_sequences(bbc_test_corpus, \n",
    "                   maxlen=MAX_SEQUENCE_LENGTH)"
   ]
  },
  {
   "cell_type": "markdown",
   "metadata": {},
   "source": [
    "## PyTorch_立場預測"
   ]
  },
  {
   "cell_type": "code",
   "execution_count": 17,
   "metadata": {},
   "outputs": [],
   "source": [
    "from keras.datasets import imdb\n",
    "from keras.preprocessing import sequence\n",
    "import torch\n",
    "from sklearn.model_selection import train_test_split\n",
    "import numpy as np\n",
    "\n",
    "device = torch.device('cuda' if torch.cuda.is_available() else 'cpu')\n",
    "def binary_accuracy(preds, y):\n",
    "    correct = (preds.argmax(dim=1) == y).float() #convert into float for division \n",
    "    acc = correct.sum()/len(correct)\n",
    "    return acc"
   ]
  },
  {
   "cell_type": "code",
   "execution_count": 18,
   "metadata": {},
   "outputs": [],
   "source": [
    "hk_y_test = torch.LongTensor(hk_test_corpus).to(device)\n",
    "udn_y_test = torch.LongTensor(udn_test_corpus).to(device)\n",
    "bbc_y_test = torch.LongTensor(bbc_test_corpus).to(device)\n"
   ]
  },
  {
   "cell_type": "markdown",
   "metadata": {},
   "source": [
    "### HK01"
   ]
  },
  {
   "cell_type": "code",
   "execution_count": 18,
   "metadata": {},
   "outputs": [],
   "source": [
    "hk_train_y = np.asarray(hk_train['立場']).astype(int)\n",
    "HK_x_train, HK_x_val, HK_y_train, HK_y_val = train_test_split(hk_train_corpus,  hk_train_y, test_size = 0.2, random_state = 0)\n"
   ]
  },
  {
   "cell_type": "code",
   "execution_count": 19,
   "metadata": {},
   "outputs": [],
   "source": [
    "vocab_size = 10000\n",
    "# cut texts after this number of words (among top max_features most common words)\n",
    "sentence_max_lenght = 200\n",
    "embedding_size = 150\n",
    "output_size = 30\n",
    "epochs = 150\n",
    "batch_size = 3000\n",
    "H1 = 130\n",
    "H2 = 130"
   ]
  },
  {
   "cell_type": "code",
   "execution_count": 20,
   "metadata": {},
   "outputs": [],
   "source": [
    "x_train, y_train = torch.LongTensor(HK_x_train).to(device), torch.LongTensor(HK_y_train).to(device)\n",
    "x_test, y_test = torch.LongTensor(HK_x_val).to(device), torch.LongTensor(HK_y_val).to(device)"
   ]
  },
  {
   "cell_type": "code",
   "execution_count": 21,
   "metadata": {},
   "outputs": [],
   "source": [
    "class NEWS_NET2(torch.nn.Module):\n",
    "    def __init__(self, vocab_size,\n",
    "                 embedding_size,\n",
    "                 output_size,\n",
    "                 H1,\n",
    "                 H2):\n",
    "        super(NEWS_NET2, self).__init__()\n",
    "        self.embeddings = torch.nn.Embedding(vocab_size , embedding_size)\n",
    "        self.linear = torch.nn.Sequential(\n",
    "            torch.nn.Linear(embedding_size, H1, bias=False),\n",
    "            torch.nn.Dropout(0.1),  \n",
    "            torch.nn.ReLU(),\n",
    "            torch.nn.Linear(H1, H2, bias=False),\n",
    "            torch.nn.Dropout(0.1), \n",
    "            torch.nn.ReLU(),\n",
    "            torch.nn.Linear(H2, output_size)  \n",
    "        )\n",
    "        \n",
    "\n",
    "    def forward(self, x):\n",
    "        emb = self.embeddings(x).sum(dim=1)\n",
    "        output = self.linear(emb)\n",
    "        \n",
    "        \n",
    "        return output"
   ]
  },
  {
   "cell_type": "code",
   "execution_count": 22,
   "metadata": {},
   "outputs": [
    {
     "name": "stdout",
     "output_type": "stream",
     "text": [
      "Build model\n",
      "NEWS_NET2(\n",
      "  (embeddings): Embedding(10000, 150)\n",
      "  (linear): Sequential(\n",
      "    (0): Linear(in_features=150, out_features=130, bias=False)\n",
      "    (1): Dropout(p=0.1, inplace=False)\n",
      "    (2): ReLU()\n",
      "    (3): Linear(in_features=130, out_features=130, bias=False)\n",
      "    (4): Dropout(p=0.1, inplace=False)\n",
      "    (5): ReLU()\n",
      "    (6): Linear(in_features=130, out_features=30, bias=True)\n",
      "  )\n",
      ")\n"
     ]
    }
   ],
   "source": [
    "print('Build model')\n",
    "model = NEWS_NET2(vocab_size, \n",
    "                            embedding_size,  \n",
    "                            output_size,\n",
    "                            H1,\n",
    "                            H2).to(device)\n",
    "print(model)\n",
    "criterion = torch.nn.CrossEntropyLoss()\n",
    "optimizer = torch.optim.Adam(model.parameters(), \n",
    "                             lr=0.01)#5e-4"
   ]
  },
  {
   "cell_type": "code",
   "execution_count": 23,
   "metadata": {},
   "outputs": [],
   "source": [
    "def binary_accuracy(preds, y):\n",
    "    correct = (preds.argmax(dim=1) == y).float() #convert into float for division \n",
    "    acc = correct.sum()/len(correct)\n",
    "    return acc"
   ]
  },
  {
   "cell_type": "code",
   "execution_count": 24,
   "metadata": {
    "scrolled": true
   },
   "outputs": [
    {
     "name": "stdout",
     "output_type": "stream",
     "text": [
      "epoch 0 | loss 58.6325 | accuacy 0.4565\n",
      "epoch 1 | loss 34.6760 | accuacy 0.2643\n",
      "epoch 2 | loss 321.9044 | accuacy 0.2763\n",
      "epoch 3 | loss 356.3279 | accuacy 0.2658\n",
      "epoch 4 | loss 118.6474 | accuacy 0.4429\n",
      "epoch 5 | loss 31.3296 | accuacy 0.4745\n",
      "epoch 6 | loss 38.3063 | accuacy 0.4805\n",
      "epoch 7 | loss 33.4636 | accuacy 0.4550\n",
      "epoch 8 | loss 24.3657 | accuacy 0.3694\n",
      "epoch 9 | loss 17.5600 | accuacy 0.4324\n",
      "epoch 10 | loss 8.4467 | accuacy 0.3213\n",
      "epoch 11 | loss 8.8957 | accuacy 0.4039\n",
      "epoch 12 | loss 6.0330 | accuacy 0.4745\n",
      "epoch 13 | loss 5.1943 | accuacy 0.4189\n",
      "epoch 14 | loss 2.7437 | accuacy 0.3303\n",
      "epoch 15 | loss 3.3030 | accuacy 0.3408\n",
      "epoch 16 | loss 2.6113 | accuacy 0.3919\n",
      "epoch 17 | loss 1.6036 | accuacy 0.4955\n",
      "epoch 18 | loss 1.3213 | accuacy 0.4489\n",
      "epoch 19 | loss 1.4934 | accuacy 0.4880\n",
      "epoch 20 | loss 1.3056 | accuacy 0.5105\n",
      "epoch 21 | loss 1.1304 | accuacy 0.3859\n",
      "epoch 22 | loss 3.3619 | accuacy 0.5195\n",
      "epoch 23 | loss 1.1744 | accuacy 0.4625\n",
      "epoch 24 | loss 1.0785 | accuacy 0.4880\n",
      "epoch 25 | loss 1.0604 | accuacy 0.4865\n",
      "epoch 26 | loss 1.0963 | accuacy 0.4895\n",
      "epoch 27 | loss 1.0890 | accuacy 0.4489\n",
      "epoch 28 | loss 1.0864 | accuacy 0.4715\n",
      "epoch 29 | loss 1.0261 | accuacy 0.4820\n",
      "epoch 30 | loss 1.0759 | accuacy 0.5045\n",
      "epoch 31 | loss 1.0362 | accuacy 0.4820\n",
      "epoch 32 | loss 1.0188 | accuacy 0.4925\n",
      "epoch 33 | loss 0.9836 | accuacy 0.5045\n",
      "epoch 34 | loss 0.9670 | accuacy 0.5000\n",
      "epoch 35 | loss 1.1459 | accuacy 0.5375\n",
      "epoch 36 | loss 0.9587 | accuacy 0.5060\n",
      "epoch 37 | loss 0.9655 | accuacy 0.5315\n",
      "epoch 38 | loss 3.9625 | accuacy 0.5000\n",
      "epoch 39 | loss 1.0332 | accuacy 0.4865\n",
      "epoch 40 | loss 1.0491 | accuacy 0.4850\n",
      "epoch 41 | loss 1.0709 | accuacy 0.4429\n",
      "epoch 42 | loss 2.2402 | accuacy 0.3589\n",
      "epoch 43 | loss 1.5717 | accuacy 0.5105\n",
      "epoch 44 | loss 1.2675 | accuacy 0.5045\n",
      "epoch 45 | loss 1.2334 | accuacy 0.5060\n",
      "epoch 46 | loss 1.2740 | accuacy 0.4790\n",
      "epoch 47 | loss 1.1460 | accuacy 0.4309\n",
      "epoch 48 | loss 1.1876 | accuacy 0.4354\n",
      "epoch 49 | loss 1.1362 | accuacy 0.4670\n",
      "epoch 50 | loss 1.1380 | accuacy 0.5060\n",
      "epoch 51 | loss 1.0933 | accuacy 0.5120\n",
      "epoch 52 | loss 1.0867 | accuacy 0.4790\n",
      "epoch 53 | loss 1.1114 | accuacy 0.4955\n",
      "epoch 54 | loss 1.0763 | accuacy 0.4970\n",
      "epoch 55 | loss 1.0632 | accuacy 0.4865\n",
      "epoch 56 | loss 1.0216 | accuacy 0.4745\n",
      "epoch 57 | loss 1.0349 | accuacy 0.5360\n",
      "epoch 58 | loss 1.0083 | accuacy 0.5000\n",
      "epoch 59 | loss 0.9783 | accuacy 0.5135\n",
      "epoch 60 | loss 0.9834 | accuacy 0.5120\n",
      "epoch 61 | loss 0.9875 | accuacy 0.4955\n",
      "epoch 62 | loss 0.9734 | accuacy 0.5345\n",
      "epoch 63 | loss 0.9909 | accuacy 0.5060\n",
      "epoch 64 | loss 0.9586 | accuacy 0.5090\n",
      "epoch 65 | loss 0.9409 | accuacy 0.5210\n",
      "epoch 66 | loss 0.9429 | accuacy 0.5165\n",
      "epoch 67 | loss 0.9443 | accuacy 0.5345\n",
      "epoch 68 | loss 0.9339 | accuacy 0.5646\n",
      "epoch 69 | loss 0.9308 | accuacy 0.5541\n",
      "epoch 70 | loss 0.9079 | accuacy 0.5405\n",
      "epoch 71 | loss 0.9058 | accuacy 0.5586\n",
      "epoch 72 | loss 0.8982 | accuacy 0.5556\n",
      "epoch 73 | loss 0.9018 | accuacy 0.5646\n",
      "epoch 74 | loss 0.8820 | accuacy 0.5526\n",
      "epoch 75 | loss 0.8792 | accuacy 0.5931\n",
      "epoch 76 | loss 0.8827 | accuacy 0.5826\n",
      "epoch 77 | loss 0.8689 | accuacy 0.5946\n",
      "epoch 78 | loss 0.8675 | accuacy 0.6051\n",
      "epoch 79 | loss 0.8532 | accuacy 0.5946\n",
      "epoch 80 | loss 0.8300 | accuacy 0.6066\n",
      "epoch 81 | loss 0.8337 | accuacy 0.6321\n",
      "epoch 82 | loss 0.8285 | accuacy 0.6186\n",
      "epoch 83 | loss 0.8291 | accuacy 0.6246\n",
      "epoch 84 | loss 0.8037 | accuacy 0.6261\n",
      "epoch 85 | loss 0.8012 | accuacy 0.6411\n",
      "epoch 86 | loss 0.7643 | accuacy 0.6381\n",
      "epoch 87 | loss 0.7771 | accuacy 0.6622\n",
      "epoch 88 | loss 0.7467 | accuacy 0.6411\n",
      "epoch 89 | loss 0.7488 | accuacy 0.6396\n",
      "epoch 90 | loss 0.7318 | accuacy 0.6742\n",
      "epoch 91 | loss 0.7414 | accuacy 0.6592\n",
      "epoch 92 | loss 0.7049 | accuacy 0.6787\n",
      "epoch 93 | loss 0.6945 | accuacy 0.6532\n",
      "epoch 94 | loss 0.7150 | accuacy 0.6321\n",
      "epoch 95 | loss 0.7773 | accuacy 0.6351\n",
      "epoch 96 | loss 0.7560 | accuacy 0.6411\n",
      "epoch 97 | loss 0.7837 | accuacy 0.6727\n",
      "epoch 98 | loss 0.6720 | accuacy 0.4850\n",
      "epoch 99 | loss 1.0960 | accuacy 0.5736\n",
      "epoch 100 | loss 0.9395 | accuacy 0.5405\n",
      "epoch 101 | loss 0.9621 | accuacy 0.5435\n",
      "epoch 102 | loss 0.9420 | accuacy 0.5330\n",
      "epoch 103 | loss 0.9305 | accuacy 0.5330\n",
      "epoch 104 | loss 0.9284 | accuacy 0.5300\n",
      "epoch 105 | loss 0.9118 | accuacy 0.5360\n",
      "epoch 106 | loss 0.9129 | accuacy 0.5345\n",
      "epoch 107 | loss 0.8934 | accuacy 0.5345\n",
      "epoch 108 | loss 0.9008 | accuacy 0.5420\n",
      "epoch 109 | loss 0.9066 | accuacy 0.5435\n",
      "epoch 110 | loss 0.8864 | accuacy 0.5360\n",
      "epoch 111 | loss 0.8631 | accuacy 0.5420\n",
      "epoch 112 | loss 0.8762 | accuacy 0.5420\n",
      "epoch 113 | loss 0.8510 | accuacy 0.5420\n",
      "epoch 114 | loss 0.8647 | accuacy 0.5435\n",
      "epoch 115 | loss 0.8387 | accuacy 0.5511\n",
      "epoch 116 | loss 0.8318 | accuacy 0.5465\n",
      "epoch 117 | loss 0.8355 | accuacy 0.5495\n",
      "epoch 118 | loss 0.8212 | accuacy 0.5511\n",
      "epoch 119 | loss 0.8037 | accuacy 0.5465\n",
      "epoch 120 | loss 0.8184 | accuacy 0.5586\n",
      "epoch 121 | loss 0.7928 | accuacy 0.5631\n",
      "epoch 122 | loss 0.7706 | accuacy 0.5901\n",
      "epoch 123 | loss 0.7575 | accuacy 0.6216\n",
      "epoch 124 | loss 0.7247 | accuacy 0.6697\n",
      "epoch 125 | loss 0.7375 | accuacy 0.5631\n",
      "epoch 126 | loss 0.9591 | accuacy 0.6351\n",
      "epoch 127 | loss 0.7419 | accuacy 0.6502\n",
      "epoch 128 | loss 0.7958 | accuacy 0.6907\n",
      "epoch 129 | loss 0.6905 | accuacy 0.6276\n",
      "epoch 130 | loss 0.8212 | accuacy 0.5526\n",
      "epoch 131 | loss 1.1359 | accuacy 0.5360\n",
      "epoch 132 | loss 1.6793 | accuacy 0.5210\n",
      "epoch 133 | loss 1.3360 | accuacy 0.5315\n",
      "epoch 134 | loss 0.9550 | accuacy 0.4850\n",
      "epoch 135 | loss 1.0774 | accuacy 0.5285\n",
      "epoch 136 | loss 1.1192 | accuacy 0.4895\n",
      "epoch 137 | loss 1.0736 | accuacy 0.4700\n",
      "epoch 138 | loss 1.0765 | accuacy 0.5075\n",
      "epoch 139 | loss 1.1190 | accuacy 0.4985\n",
      "epoch 140 | loss 1.0838 | accuacy 0.5120\n",
      "epoch 141 | loss 1.0628 | accuacy 0.5045\n",
      "epoch 142 | loss 1.0791 | accuacy 0.5375\n",
      "epoch 143 | loss 1.0465 | accuacy 0.5285\n",
      "epoch 144 | loss 1.0907 | accuacy 0.5195\n",
      "epoch 145 | loss 1.0288 | accuacy 0.5390\n",
      "epoch 146 | loss 1.0351 | accuacy 0.5586\n",
      "epoch 147 | loss 1.0274 | accuacy 0.5435\n",
      "epoch 148 | loss 0.9980 | accuacy 0.5405\n",
      "epoch 149 | loss 1.0137 | accuacy 0.5330\n"
     ]
    }
   ],
   "source": [
    "# batchify\n",
    "x_train_batch = torch.split(x_train, batch_size, dim=0)\n",
    "y_train_batch = torch.split(y_train, batch_size, dim=0)\n",
    "\n",
    "for epoch in range(epochs):\n",
    "    for i,(x,y) in enumerate(zip(x_train_batch, y_train_batch)):\n",
    "        y_pred = model.forward(x)#.squeeze(1)\n",
    "        loss = criterion(y_pred, y)\n",
    "        accuracy = binary_accuracy(y_pred, y)\n",
    "        optimizer.zero_grad()\n",
    "        loss.backward()\n",
    "        optimizer.step()\n",
    "    with torch.no_grad():\n",
    "        y_pred = model.forward(x_train)\n",
    "        accuracy = binary_accuracy(y_pred, y_train)\n",
    "    print('epoch %d | loss %.4f | accuacy %.4f'%(epoch, loss.item(), accuracy.item()))"
   ]
  },
  {
   "cell_type": "code",
   "execution_count": 25,
   "metadata": {
    "scrolled": true
   },
   "outputs": [
    {
     "name": "stdout",
     "output_type": "stream",
     "text": [
      "accuracy on train: 0.5225\n",
      "accuracy on test: 0.5030\n"
     ]
    }
   ],
   "source": [
    "with torch.no_grad():\n",
    "    y_pred = model.forward(x_train)\n",
    "    accuracy = binary_accuracy(y_pred, y_train)\n",
    "    print('accuracy on train: %.4f'%(accuracy))\n",
    "    y_pred = model.forward(x_test)\n",
    "    accuracy = binary_accuracy(y_pred, y_test)\n",
    "    print('accuracy on test: %.4f'%(accuracy))"
   ]
  },
  {
   "cell_type": "code",
   "execution_count": 24,
   "metadata": {
    "scrolled": false
   },
   "outputs": [],
   "source": [
    "def split_c(aa):\n",
    "    bb = str(aa).split('tensor(')[1][:1]\n",
    "    return bb"
   ]
  },
  {
   "cell_type": "code",
   "execution_count": 91,
   "metadata": {},
   "outputs": [],
   "source": [
    "hk_pred = model.forward(hk_y_test)\n",
    "\n",
    "hk_pred2 = hk_pred.argmax(dim=1)\n",
    "\n",
    "hk_test['立場'] = list(hk_pred2)\n",
    "\n",
    "hk_test['立場'] = hk_test['立場'].apply(split_c,1)"
   ]
  },
  {
   "cell_type": "code",
   "execution_count": 38,
   "metadata": {},
   "outputs": [],
   "source": [
    "hk_test.to_csv(\"HK_test.csv\", index = False)"
   ]
  },
  {
   "cell_type": "markdown",
   "metadata": {},
   "source": [
    "## UDN"
   ]
  },
  {
   "cell_type": "code",
   "execution_count": 46,
   "metadata": {},
   "outputs": [],
   "source": [
    "udn_train_y = np.asarray(udn_train['立場']).astype(int)\n",
    "UDN_x_train, UDN_x_val, UDN_y_train, UDN_y_val = train_test_split(udn_train_corpus,  udn_train_y, test_size = 0.2, random_state = 0)"
   ]
  },
  {
   "cell_type": "code",
   "execution_count": 47,
   "metadata": {
    "scrolled": true
   },
   "outputs": [
    {
     "name": "stdout",
     "output_type": "stream",
     "text": [
      "Build model\n",
      "NEWS_NET2(\n",
      "  (embeddings): Embedding(10000, 150)\n",
      "  (linear): Sequential(\n",
      "    (0): Linear(in_features=150, out_features=100, bias=False)\n",
      "    (1): Dropout(p=0.2, inplace=False)\n",
      "    (2): ReLU()\n",
      "    (3): Linear(in_features=100, out_features=100, bias=False)\n",
      "    (4): Dropout(p=0.2, inplace=False)\n",
      "    (5): ReLU()\n",
      "    (6): Linear(in_features=100, out_features=20, bias=True)\n",
      "  )\n",
      ")\n",
      "epoch 0 | loss 50.4661 | accuacy 0.2886\n",
      "epoch 1 | loss 2428.0806 | accuacy 0.3873\n",
      "epoch 2 | loss 11195.6035 | accuacy 0.3362\n",
      "epoch 3 | loss 7214.7041 | accuacy 0.3632\n",
      "epoch 4 | loss 1055.5381 | accuacy 0.3802\n",
      "epoch 5 | loss 592.4124 | accuacy 0.2935\n",
      "epoch 6 | loss 278.7814 | accuacy 0.3404\n",
      "epoch 7 | loss 40.3154 | accuacy 0.3475\n",
      "epoch 8 | loss 22.5436 | accuacy 0.3468\n",
      "epoch 9 | loss 17.0743 | accuacy 0.3454\n",
      "epoch 10 | loss 6.2663 | accuacy 0.3426\n",
      "epoch 11 | loss 3.2130 | accuacy 0.3404\n",
      "epoch 12 | loss 3.9153 | accuacy 0.3440\n",
      "epoch 13 | loss 2.6953 | accuacy 0.3433\n",
      "epoch 14 | loss 3.5902 | accuacy 0.3404\n",
      "epoch 15 | loss 3.7971 | accuacy 0.3419\n",
      "epoch 16 | loss 2.6498 | accuacy 0.3390\n",
      "epoch 17 | loss 7.0903 | accuacy 0.3397\n",
      "epoch 18 | loss 1.7773 | accuacy 0.3404\n",
      "epoch 19 | loss 1.7199 | accuacy 0.4016\n",
      "epoch 20 | loss 3.2020 | accuacy 0.3994\n",
      "epoch 21 | loss 2.0078 | accuacy 0.3980\n",
      "epoch 22 | loss 2.1595 | accuacy 0.3973\n",
      "epoch 23 | loss 1.4268 | accuacy 0.3994\n",
      "epoch 24 | loss 1.3730 | accuacy 0.4001\n",
      "epoch 25 | loss 1.3867 | accuacy 0.3973\n",
      "epoch 26 | loss 1.4862 | accuacy 0.3959\n",
      "epoch 27 | loss 1.4279 | accuacy 0.3987\n",
      "epoch 28 | loss 1.2632 | accuacy 0.3980\n",
      "epoch 29 | loss 1.2475 | accuacy 0.3980\n",
      "epoch 30 | loss 1.2322 | accuacy 0.3987\n",
      "epoch 31 | loss 1.2173 | accuacy 0.3994\n",
      "epoch 32 | loss 1.6282 | accuacy 0.3980\n",
      "epoch 33 | loss 1.5162 | accuacy 0.3980\n",
      "epoch 34 | loss 1.1938 | accuacy 0.3973\n",
      "epoch 35 | loss 1.1758 | accuacy 0.3966\n",
      "epoch 36 | loss 1.1706 | accuacy 0.3959\n",
      "epoch 37 | loss 1.1640 | accuacy 0.3959\n",
      "epoch 38 | loss 1.1583 | accuacy 0.3973\n",
      "epoch 39 | loss 1.1531 | accuacy 0.3966\n",
      "epoch 40 | loss 1.1475 | accuacy 0.3959\n",
      "epoch 41 | loss 1.1435 | accuacy 0.3973\n",
      "epoch 42 | loss 1.1487 | accuacy 0.3966\n",
      "epoch 43 | loss 1.1385 | accuacy 0.3966\n",
      "epoch 44 | loss 1.1346 | accuacy 0.3959\n",
      "epoch 45 | loss 1.1319 | accuacy 0.3959\n",
      "epoch 46 | loss 1.1295 | accuacy 0.3966\n",
      "epoch 47 | loss 1.1358 | accuacy 0.3959\n",
      "epoch 48 | loss 1.1253 | accuacy 0.3966\n",
      "epoch 49 | loss 1.1235 | accuacy 0.3959\n",
      "epoch 50 | loss 1.1219 | accuacy 0.3952\n",
      "epoch 51 | loss 1.1213 | accuacy 0.3959\n",
      "epoch 52 | loss 1.1218 | accuacy 0.3959\n",
      "epoch 53 | loss 1.1187 | accuacy 0.3959\n",
      "epoch 54 | loss 1.1175 | accuacy 0.3966\n",
      "epoch 55 | loss 1.1155 | accuacy 0.3966\n",
      "epoch 56 | loss 1.1164 | accuacy 0.3952\n",
      "epoch 57 | loss 1.1145 | accuacy 0.3959\n",
      "epoch 58 | loss 1.1135 | accuacy 0.3959\n",
      "epoch 59 | loss 1.1118 | accuacy 0.3959\n",
      "epoch 60 | loss 1.1120 | accuacy 0.3966\n",
      "epoch 61 | loss 1.1103 | accuacy 0.3966\n",
      "epoch 62 | loss 1.1097 | accuacy 0.3966\n",
      "epoch 63 | loss 1.1099 | accuacy 0.3966\n",
      "epoch 64 | loss 1.1084 | accuacy 0.3952\n",
      "epoch 65 | loss 1.1097 | accuacy 0.3959\n",
      "epoch 66 | loss 1.1072 | accuacy 0.3952\n",
      "epoch 67 | loss 1.1067 | accuacy 0.3966\n",
      "epoch 68 | loss 1.1081 | accuacy 0.3966\n",
      "epoch 69 | loss 1.1065 | accuacy 0.3952\n",
      "epoch 70 | loss 1.1053 | accuacy 0.3959\n",
      "epoch 71 | loss 1.1067 | accuacy 0.3959\n",
      "epoch 72 | loss 1.1044 | accuacy 0.3966\n",
      "epoch 73 | loss 1.1050 | accuacy 0.3945\n",
      "epoch 74 | loss 1.1046 | accuacy 0.3959\n",
      "epoch 75 | loss 1.1033 | accuacy 0.3966\n",
      "epoch 76 | loss 1.1039 | accuacy 0.3952\n",
      "epoch 77 | loss 1.1036 | accuacy 0.3959\n",
      "epoch 78 | loss 1.1023 | accuacy 0.3945\n",
      "epoch 79 | loss 1.1020 | accuacy 0.3966\n",
      "epoch 80 | loss 1.1017 | accuacy 0.3959\n",
      "epoch 81 | loss 1.1024 | accuacy 0.3952\n",
      "epoch 82 | loss 1.1021 | accuacy 0.3959\n",
      "epoch 83 | loss 1.1016 | accuacy 0.3959\n",
      "epoch 84 | loss 1.1006 | accuacy 0.3959\n",
      "epoch 85 | loss 1.1020 | accuacy 0.3945\n",
      "epoch 86 | loss 1.1010 | accuacy 0.3952\n",
      "epoch 87 | loss 1.1006 | accuacy 0.3959\n",
      "epoch 88 | loss 1.1005 | accuacy 0.3966\n",
      "epoch 89 | loss 1.0994 | accuacy 0.3959\n",
      "epoch 90 | loss 1.1001 | accuacy 0.3966\n",
      "epoch 91 | loss 1.0999 | accuacy 0.3952\n",
      "epoch 92 | loss 1.0987 | accuacy 0.3966\n",
      "epoch 93 | loss 1.0994 | accuacy 0.3966\n",
      "epoch 94 | loss 1.0983 | accuacy 0.3952\n",
      "epoch 95 | loss 1.0981 | accuacy 0.3966\n",
      "epoch 96 | loss 1.0988 | accuacy 0.3959\n",
      "epoch 97 | loss 1.0985 | accuacy 0.3945\n",
      "epoch 98 | loss 1.0975 | accuacy 0.3966\n",
      "epoch 99 | loss 1.0973 | accuacy 0.3966\n",
      "epoch 100 | loss 1.0972 | accuacy 0.3959\n",
      "epoch 101 | loss 1.0987 | accuacy 0.3959\n",
      "epoch 102 | loss 1.0968 | accuacy 0.3966\n",
      "epoch 103 | loss 1.0976 | accuacy 0.3959\n",
      "epoch 104 | loss 1.0984 | accuacy 0.3959\n",
      "epoch 105 | loss 1.0972 | accuacy 0.3959\n",
      "epoch 106 | loss 1.0971 | accuacy 0.3959\n",
      "epoch 107 | loss 1.0969 | accuacy 0.3959\n",
      "epoch 108 | loss 1.0958 | accuacy 0.3952\n",
      "epoch 109 | loss 1.0957 | accuacy 0.3959\n",
      "epoch 110 | loss 1.0963 | accuacy 0.3959\n",
      "epoch 111 | loss 1.0954 | accuacy 0.3959\n",
      "epoch 112 | loss 1.0953 | accuacy 0.3952\n",
      "epoch 113 | loss 1.0961 | accuacy 0.3966\n",
      "epoch 114 | loss 1.0950 | accuacy 0.3959\n",
      "epoch 115 | loss 1.0958 | accuacy 0.3959\n",
      "epoch 116 | loss 1.0947 | accuacy 0.3966\n",
      "epoch 117 | loss 1.0946 | accuacy 0.3959\n",
      "epoch 118 | loss 1.0945 | accuacy 0.3959\n",
      "epoch 119 | loss 1.0961 | accuacy 0.3966\n",
      "epoch 120 | loss 1.0961 | accuacy 0.3966\n",
      "epoch 121 | loss 1.0949 | accuacy 0.3959\n",
      "epoch 122 | loss 1.0948 | accuacy 0.3952\n",
      "epoch 123 | loss 1.0939 | accuacy 0.3959\n",
      "epoch 124 | loss 1.0937 | accuacy 0.3952\n",
      "epoch 125 | loss 1.0936 | accuacy 0.3959\n",
      "epoch 126 | loss 1.0945 | accuacy 0.3966\n",
      "epoch 127 | loss 1.0951 | accuacy 0.3959\n",
      "epoch 128 | loss 1.0950 | accuacy 0.3959\n",
      "epoch 129 | loss 1.0932 | accuacy 0.3966\n",
      "epoch 130 | loss 1.0931 | accuacy 0.3959\n",
      "epoch 131 | loss 1.0939 | accuacy 0.3966\n",
      "epoch 132 | loss 1.0955 | accuacy 0.3959\n",
      "epoch 133 | loss 1.0928 | accuacy 0.3959\n",
      "epoch 134 | loss 1.0927 | accuacy 0.3966\n",
      "epoch 135 | loss 1.0935 | accuacy 0.3959\n",
      "epoch 136 | loss 1.0925 | accuacy 0.3952\n",
      "epoch 137 | loss 1.0924 | accuacy 0.3959\n",
      "epoch 138 | loss 1.0923 | accuacy 0.3966\n",
      "epoch 139 | loss 1.0922 | accuacy 0.3959\n",
      "epoch 140 | loss 1.0940 | accuacy 0.3959\n",
      "epoch 141 | loss 1.0920 | accuacy 0.3959\n",
      "epoch 142 | loss 1.0919 | accuacy 0.3966\n",
      "epoch 143 | loss 1.0937 | accuacy 0.3959\n",
      "epoch 144 | loss 1.0927 | accuacy 0.3945\n",
      "epoch 145 | loss 1.0926 | accuacy 0.3959\n",
      "epoch 146 | loss 1.0935 | accuacy 0.3966\n",
      "epoch 147 | loss 1.0915 | accuacy 0.3959\n",
      "epoch 148 | loss 1.0914 | accuacy 0.3959\n",
      "epoch 149 | loss 1.0923 | accuacy 0.3952\n",
      "accuracy on train: 0.3952\n",
      "accuracy on test: 0.3807\n"
     ]
    }
   ],
   "source": [
    "vocab_size = 10000\n",
    "# cut texts after this number of words (among top max_features most common words)\n",
    "sentence_max_lenght = 200\n",
    "embedding_size = 150\n",
    "output_size = 20\n",
    "epochs = 150\n",
    "batch_size = 3000\n",
    "H1 = 100\n",
    "H2 = 100\n",
    "\n",
    "x_train, y_train = torch.LongTensor(UDN_x_train).to(device), torch.LongTensor(UDN_y_train).to(device)\n",
    "x_test, y_test = torch.LongTensor(UDN_x_val).to(device), torch.LongTensor(UDN_y_val).to(device)\n",
    "\n",
    "class NEWS_NET2(torch.nn.Module):\n",
    "    def __init__(self, vocab_size,\n",
    "                 embedding_size,\n",
    "                 output_size,\n",
    "                 H1,\n",
    "                 H2):\n",
    "        super(NEWS_NET2, self).__init__()\n",
    "        self.embeddings = torch.nn.Embedding(vocab_size , embedding_size)\n",
    "        self.linear = torch.nn.Sequential(\n",
    "            torch.nn.Linear(embedding_size, H1, bias=False),\n",
    "            torch.nn.Dropout(0.2),  \n",
    "            torch.nn.ReLU(),\n",
    "            torch.nn.Linear(H1, H2, bias=False),\n",
    "            torch.nn.Dropout(0.2),  \n",
    "            torch.nn.ReLU(),\n",
    "            torch.nn.Linear(H2, output_size)  \n",
    "        )\n",
    "        \n",
    "\n",
    "    def forward(self, x):\n",
    "        emb = self.embeddings(x).sum(dim=1)\n",
    "        output = self.linear(emb)\n",
    "             \n",
    "        return output\n",
    "\n",
    "print('Build model')\n",
    "model = NEWS_NET2(vocab_size, \n",
    "                            embedding_size, \n",
    "                            output_size,\n",
    "                            H1,\n",
    "                            H2).to(device)\n",
    "print(model)\n",
    "criterion = torch.nn.CrossEntropyLoss()\n",
    "optimizer = torch.optim.Adam(model.parameters(), \n",
    "                             lr=0.1)#5e-4\n",
    "\n",
    "# batchify\n",
    "x_train_batch = torch.split(x_train, batch_size, dim=0)\n",
    "y_train_batch = torch.split(y_train, batch_size, dim=0)\n",
    "\n",
    "for epoch in range(epochs):\n",
    "    for i,(x,y) in enumerate(zip(x_train_batch, y_train_batch)):\n",
    "        y_pred = model.forward(x)#.squeeze(1)\n",
    "        loss = criterion(y_pred, y)\n",
    "        accuracy = binary_accuracy(y_pred, y)\n",
    "        optimizer.zero_grad()\n",
    "        loss.backward()\n",
    "        optimizer.step()\n",
    "    with torch.no_grad():\n",
    "        y_pred = model.forward(x_train)\n",
    "        accuracy = binary_accuracy(y_pred, y_train)\n",
    "    print('epoch %d | loss %.4f | accuacy %.4f'%(epoch, loss.item(), accuracy.item()))\n",
    "    \n",
    "with torch.no_grad():\n",
    "    y_pred = model.forward(x_train)\n",
    "    accuracy = binary_accuracy(y_pred, y_train)\n",
    "    print('accuracy on train: %.4f'%(accuracy))\n",
    "    y_pred = model.forward(x_test)\n",
    "    accuracy = binary_accuracy(y_pred, y_test)\n",
    "    print('accuracy on test: %.4f'%(accuracy))"
   ]
  },
  {
   "cell_type": "code",
   "execution_count": 35,
   "metadata": {},
   "outputs": [],
   "source": [
    "udn_pred = model.forward(udn_y_test)\n",
    "\n",
    "udn_pred2 = udn_pred.argmax(dim=1)\n",
    "\n",
    "udn_test['立場'] = list(udn_pred2)\n",
    "\n",
    "udn_test['立場'] = udn_test['立場'].apply(split_c,1)"
   ]
  },
  {
   "cell_type": "code",
   "execution_count": 50,
   "metadata": {},
   "outputs": [],
   "source": [
    "udn_test.to_csv(\"UDN_test.csv\", index = False)"
   ]
  },
  {
   "cell_type": "markdown",
   "metadata": {},
   "source": [
    "### BBC"
   ]
  },
  {
   "cell_type": "code",
   "execution_count": 19,
   "metadata": {},
   "outputs": [],
   "source": [
    "bbc_train_y = np.asarray(bbc_train['立場']).astype(int)\n",
    "BBC_x_train, BBC_x_val, BBC_y_train, BBC_y_val = train_test_split(bbc_train_corpus,  bbc_train_y, test_size = 0.2, random_state = 0)"
   ]
  },
  {
   "cell_type": "code",
   "execution_count": 20,
   "metadata": {
    "scrolled": true
   },
   "outputs": [
    {
     "name": "stdout",
     "output_type": "stream",
     "text": [
      "Build model\n",
      "NEWS_NET2(\n",
      "  (embeddings): Embedding(10000, 150)\n",
      "  (linear): Sequential(\n",
      "    (0): Linear(in_features=150, out_features=150, bias=False)\n",
      "    (1): Dropout(p=0.8, inplace=False)\n",
      "    (2): ReLU()\n",
      "    (3): Linear(in_features=150, out_features=150, bias=False)\n",
      "    (4): Dropout(p=0.8, inplace=False)\n",
      "    (5): ReLU()\n",
      "    (6): Linear(in_features=150, out_features=20, bias=True)\n",
      "  )\n",
      ")\n",
      "epoch 0 | loss 70.7464 | accuacy 0.2963\n",
      "epoch 1 | loss 27.2019 | accuacy 0.4127\n",
      "epoch 2 | loss 23.2336 | accuacy 0.3915\n",
      "epoch 3 | loss 27.1990 | accuacy 0.4497\n",
      "epoch 4 | loss 18.7604 | accuacy 0.4074\n",
      "epoch 5 | loss 19.4736 | accuacy 0.3968\n",
      "epoch 6 | loss 14.7455 | accuacy 0.3968\n",
      "epoch 7 | loss 14.5973 | accuacy 0.4286\n",
      "epoch 8 | loss 5.3956 | accuacy 0.4444\n",
      "epoch 9 | loss 4.0218 | accuacy 0.4550\n",
      "epoch 10 | loss 2.8124 | accuacy 0.4550\n",
      "epoch 11 | loss 3.0245 | accuacy 0.4339\n",
      "epoch 12 | loss 3.1632 | accuacy 0.4762\n",
      "epoch 13 | loss 2.6070 | accuacy 0.4868\n",
      "epoch 14 | loss 2.6496 | accuacy 0.4868\n",
      "epoch 15 | loss 2.5321 | accuacy 0.5185\n",
      "epoch 16 | loss 2.9423 | accuacy 0.5291\n",
      "epoch 17 | loss 2.5755 | accuacy 0.4709\n",
      "epoch 18 | loss 2.7288 | accuacy 0.4709\n",
      "epoch 19 | loss 2.9078 | accuacy 0.4974\n",
      "epoch 20 | loss 2.9455 | accuacy 0.5079\n",
      "epoch 21 | loss 2.9712 | accuacy 0.4762\n",
      "epoch 22 | loss 2.6414 | accuacy 0.4762\n",
      "epoch 23 | loss 2.6016 | accuacy 0.5132\n",
      "epoch 24 | loss 2.5044 | accuacy 0.4815\n",
      "epoch 25 | loss 2.7953 | accuacy 0.5132\n",
      "epoch 26 | loss 2.6641 | accuacy 0.4868\n",
      "epoch 27 | loss 2.5865 | accuacy 0.5185\n",
      "epoch 28 | loss 2.5961 | accuacy 0.4762\n",
      "epoch 29 | loss 2.4861 | accuacy 0.4974\n",
      "epoch 30 | loss 2.8402 | accuacy 0.5132\n",
      "epoch 31 | loss 2.7241 | accuacy 0.5026\n",
      "epoch 32 | loss 2.4605 | accuacy 0.5132\n",
      "epoch 33 | loss 2.6240 | accuacy 0.5026\n",
      "epoch 34 | loss 2.3636 | accuacy 0.5185\n",
      "epoch 35 | loss 2.9894 | accuacy 0.4921\n",
      "epoch 36 | loss 2.5282 | accuacy 0.5291\n",
      "epoch 37 | loss 2.3879 | accuacy 0.5079\n",
      "epoch 38 | loss 2.4941 | accuacy 0.5132\n",
      "epoch 39 | loss 2.2693 | accuacy 0.5344\n",
      "epoch 40 | loss 2.3525 | accuacy 0.5026\n",
      "epoch 41 | loss 2.2891 | accuacy 0.5079\n",
      "epoch 42 | loss 2.5450 | accuacy 0.5026\n",
      "epoch 43 | loss 2.5434 | accuacy 0.4974\n",
      "epoch 44 | loss 2.2213 | accuacy 0.4974\n",
      "epoch 45 | loss 2.3666 | accuacy 0.5132\n",
      "epoch 46 | loss 2.2137 | accuacy 0.5026\n",
      "epoch 47 | loss 2.1681 | accuacy 0.5132\n",
      "epoch 48 | loss 2.2303 | accuacy 0.5132\n",
      "epoch 49 | loss 2.1195 | accuacy 0.5185\n",
      "epoch 50 | loss 2.5327 | accuacy 0.5132\n",
      "epoch 51 | loss 2.2115 | accuacy 0.5132\n",
      "epoch 52 | loss 2.4008 | accuacy 0.5238\n",
      "epoch 53 | loss 2.4168 | accuacy 0.5132\n",
      "epoch 54 | loss 2.0470 | accuacy 0.5132\n",
      "epoch 55 | loss 2.2364 | accuacy 0.5079\n",
      "epoch 56 | loss 2.4271 | accuacy 0.5132\n",
      "epoch 57 | loss 2.1309 | accuacy 0.4921\n",
      "epoch 58 | loss 1.9827 | accuacy 0.5185\n",
      "epoch 59 | loss 1.9876 | accuacy 0.5079\n",
      "epoch 60 | loss 2.0612 | accuacy 0.5132\n",
      "epoch 61 | loss 1.9058 | accuacy 0.5026\n",
      "epoch 62 | loss 1.9969 | accuacy 0.5238\n",
      "epoch 63 | loss 1.9596 | accuacy 0.5079\n",
      "epoch 64 | loss 1.9501 | accuacy 0.5291\n",
      "epoch 65 | loss 1.9321 | accuacy 0.5344\n",
      "epoch 66 | loss 1.9164 | accuacy 0.4974\n",
      "epoch 67 | loss 1.8980 | accuacy 0.5132\n",
      "epoch 68 | loss 1.9561 | accuacy 0.5026\n",
      "epoch 69 | loss 1.8788 | accuacy 0.5026\n",
      "epoch 70 | loss 2.0768 | accuacy 0.5291\n",
      "epoch 71 | loss 2.1361 | accuacy 0.5132\n",
      "epoch 72 | loss 1.8822 | accuacy 0.5132\n",
      "epoch 73 | loss 1.8256 | accuacy 0.5132\n",
      "epoch 74 | loss 1.9463 | accuacy 0.5079\n",
      "epoch 75 | loss 1.7873 | accuacy 0.5079\n",
      "epoch 76 | loss 1.8313 | accuacy 0.5185\n",
      "epoch 77 | loss 1.7903 | accuacy 0.5238\n",
      "epoch 78 | loss 1.8113 | accuacy 0.5238\n",
      "epoch 79 | loss 1.9243 | accuacy 0.5079\n",
      "epoch 80 | loss 1.8212 | accuacy 0.5238\n",
      "epoch 81 | loss 1.7845 | accuacy 0.5079\n",
      "epoch 82 | loss 1.8090 | accuacy 0.5185\n",
      "epoch 83 | loss 1.8412 | accuacy 0.5238\n",
      "epoch 84 | loss 1.7387 | accuacy 0.5132\n",
      "epoch 85 | loss 1.7324 | accuacy 0.5132\n",
      "epoch 86 | loss 1.7444 | accuacy 0.5291\n",
      "epoch 87 | loss 1.7156 | accuacy 0.5079\n",
      "epoch 88 | loss 1.7181 | accuacy 0.5079\n",
      "epoch 89 | loss 1.7084 | accuacy 0.4974\n",
      "epoch 90 | loss 1.7134 | accuacy 0.5132\n",
      "epoch 91 | loss 1.7695 | accuacy 0.5291\n",
      "epoch 92 | loss 1.6136 | accuacy 0.5079\n",
      "epoch 93 | loss 1.6717 | accuacy 0.5291\n",
      "epoch 94 | loss 1.8548 | accuacy 0.5026\n",
      "epoch 95 | loss 1.7837 | accuacy 0.5238\n",
      "epoch 96 | loss 1.7097 | accuacy 0.5079\n",
      "epoch 97 | loss 1.6079 | accuacy 0.5291\n",
      "epoch 98 | loss 1.7915 | accuacy 0.5185\n",
      "epoch 99 | loss 1.5919 | accuacy 0.5185\n",
      "accuracy on train: 0.5238\n",
      "accuracy on test: 0.4375\n"
     ]
    }
   ],
   "source": [
    "vocab_size = 10000\n",
    "# cut texts after this number of words (among top max_features most common words)\n",
    "sentence_max_lenght = 200\n",
    "embedding_size = 150\n",
    "output_size = 20\n",
    "epochs = 100\n",
    "batch_size = 3000\n",
    "H1 = 150\n",
    "H2 = 150\n",
    "\n",
    "x_train, y_train = torch.LongTensor(BBC_x_train).to(device), torch.LongTensor(BBC_y_train).to(device)\n",
    "x_test, y_test = torch.LongTensor(BBC_x_val).to(device), torch.LongTensor(BBC_y_val).to(device)\n",
    "\n",
    "class NEWS_NET2(torch.nn.Module):\n",
    "    def __init__(self, vocab_size,\n",
    "                 embedding_size,\n",
    "                 output_size,\n",
    "                 H1,\n",
    "                 H2):\n",
    "        super(NEWS_NET2, self).__init__()\n",
    "        self.embeddings = torch.nn.Embedding(vocab_size , embedding_size)\n",
    "        self.linear = torch.nn.Sequential(\n",
    "            torch.nn.Linear(embedding_size, H1, bias=False),\n",
    "            torch.nn.Dropout(0.8),  \n",
    "            torch.nn.ReLU(),\n",
    "            torch.nn.Linear(H1, H2, bias=False),\n",
    "            torch.nn.Dropout(0.8),  \n",
    "            torch.nn.ReLU(),\n",
    "            torch.nn.Linear(H2, output_size)  \n",
    "        )\n",
    "        \n",
    "\n",
    "    def forward(self, x):\n",
    "        emb = self.embeddings(x).sum(dim=1)\n",
    "        output = self.linear(emb)\n",
    "             \n",
    "        return output\n",
    "\n",
    "print('Build model')\n",
    "model = NEWS_NET2(vocab_size, \n",
    "                            embedding_size, \n",
    "                            output_size,\n",
    "                            H1,\n",
    "                            H2).to(device)\n",
    "print(model)\n",
    "criterion = torch.nn.CrossEntropyLoss()\n",
    "optimizer = torch.optim.Adam(model.parameters(), \n",
    "                             lr=0.01)#5e-4\n",
    "\n",
    "# batchify\n",
    "x_train_batch = torch.split(x_train, batch_size, dim=0)\n",
    "y_train_batch = torch.split(y_train, batch_size, dim=0)\n",
    "\n",
    "for epoch in range(epochs):\n",
    "    for i,(x,y) in enumerate(zip(x_train_batch, y_train_batch)):\n",
    "        y_pred = model.forward(x)#.squeeze(1)\n",
    "        loss = criterion(y_pred, y)\n",
    "        accuracy = binary_accuracy(y_pred, y)\n",
    "        optimizer.zero_grad()\n",
    "        loss.backward()\n",
    "        optimizer.step()\n",
    "    with torch.no_grad():\n",
    "        y_pred = model.forward(x_train)\n",
    "        accuracy = binary_accuracy(y_pred, y_train)\n",
    "    print('epoch %d | loss %.4f | accuacy %.4f'%(epoch, loss.item(), accuracy.item()))\n",
    "    \n",
    "with torch.no_grad():\n",
    "    y_pred = model.forward(x_train)\n",
    "    accuracy = binary_accuracy(y_pred, y_train)\n",
    "    print('accuracy on train: %.4f'%(accuracy))\n",
    "    y_pred2 = model.forward(x_test)\n",
    "    accuracy = binary_accuracy(y_pred2, y_test)\n",
    "    print('accuracy on test: %.4f'%(accuracy))"
   ]
  },
  {
   "cell_type": "code",
   "execution_count": 105,
   "metadata": {},
   "outputs": [],
   "source": [
    "bbc_pred = model.forward(bbc_y_test)\n",
    "\n",
    "bbc_pred2 = bbc_pred.argmax(dim=1)\n",
    "\n",
    "bbc_test['立場'] = list(bbc_pred2)\n",
    "\n",
    "bbc_test['立場'] = bbc_test['立場'].apply(split_c,1)"
   ]
  },
  {
   "cell_type": "code",
   "execution_count": 35,
   "metadata": {},
   "outputs": [],
   "source": [
    "bbc_test.to_csv(\"BBC_test.csv\", index = False)"
   ]
  },
  {
   "cell_type": "markdown",
   "metadata": {},
   "source": [
    "## 貝葉氏"
   ]
  },
  {
   "cell_type": "code",
   "execution_count": 25,
   "metadata": {},
   "outputs": [],
   "source": [
    "from sklearn.feature_extraction.text import CountVectorizer\n",
    "import numpy as np\n",
    "from sklearn.model_selection import train_test_split\n",
    "from sklearn.metrics import accuracy_score, precision_score, recall_score\n",
    "from sklearn.naive_bayes import MultinomialNB\n",
    "from sklearn.metrics import confusion_matrix\n",
    "import matplotlib.pyplot as plt\n",
    "import seaborn as sns"
   ]
  },
  {
   "cell_type": "code",
   "execution_count": 57,
   "metadata": {},
   "outputs": [],
   "source": [
    "def CountVectorizer_MultinomialNB(df, test_df_series, alpha = 0.3):\n",
    "    y = np.asarray(df['立場']).astype(int)\n",
    "    x_train, x_test, y_train, y_test = train_test_split(df['內容'],  y, test_size = 0.2, random_state = 0)\n",
    "    cv = CountVectorizer()\n",
    "    x_train_cv =cv.fit_transform(x_train).toarray()\n",
    "    x_test_cv = cv.transform(x_test)\n",
    "    x_real_test_cv = cv.transform(test_df_series)\n",
    "    \n",
    "    naive_bayes = MultinomialNB(alpha)\n",
    "    naive_bayes.fit(x_train_cv, y_train)\n",
    "    predictions = naive_bayes.predict(x_test_cv)\n",
    "    predictions2 = naive_bayes.predict(x_real_test_cv)\n",
    "    \n",
    "    print(\"Accuracy score:\", accuracy_score(y_test, predictions))\n",
    "    print(\"Precision score:\", precision_score(y_test, predictions, average='micro'))\n",
    "    print(\"Recall score:\", recall_score(y_test, predictions, average='micro'))\n",
    "\n",
    "    %matplotlib inline\n",
    "    cm = confusion_matrix(y_test, predictions)\n",
    "    sns.heatmap(cm, square=True, annot=True, cmap=\"RdBu\", cbar=False,\n",
    "    xticklabels=[\"反對\", \"中立\",\"支持\"], yticklabels=[\"反對\", \"中立\",\"支持\"])\n",
    "    plt.xlabel(\"true label\")\n",
    "    plt.ylabel(\"predicted label\")\n",
    "    return predictions2"
   ]
  },
  {
   "cell_type": "code",
   "execution_count": 58,
   "metadata": {
    "scrolled": false
   },
   "outputs": [
    {
     "name": "stdout",
     "output_type": "stream",
     "text": [
      "Accuracy score: 0.5748502994011976\n",
      "Precision score: 0.5748502994011976\n",
      "Recall score: 0.5748502994011976\n"
     ]
    },
    {
     "data": {
      "image/png": "[encoded data removed]",
      "text/plain": [
       "<Figure size 432x288 with 1 Axes>"
      ]
     },
     "metadata": {
      "needs_background": "light"
     },
     "output_type": "display_data"
    }
   ],
   "source": [
    "hk_preds = CountVectorizer_MultinomialNB(hk_train, hk_test['內容'])"
   ]
  },
  {
   "cell_type": "code",
   "execution_count": 42,
   "metadata": {},
   "outputs": [],
   "source": [
    "hk_preds2 = list(hk_preds)\n",
    "hk_test['立場'] = hk_preds2"
   ]
  },
  {
   "cell_type": "code",
   "execution_count": 55,
   "metadata": {},
   "outputs": [],
   "source": [
    "hk_test.to_csv(\"naive_beyes_hk.csv\", index = False)"
   ]
  },
  {
   "cell_type": "code",
   "execution_count": 59,
   "metadata": {
    "scrolled": true
   },
   "outputs": [
    {
     "name": "stdout",
     "output_type": "stream",
     "text": [
      "Accuracy score: 0.5596590909090909\n",
      "Precision score: 0.5596590909090909\n",
      "Recall score: 0.5596590909090909\n"
     ]
    },
    {
     "data": {
      "image/png": "[encoded data removed]",
      "text/plain": [
       "<Figure size 432x288 with 1 Axes>"
      ]
     },
     "metadata": {
      "needs_background": "light"
     },
     "output_type": "display_data"
    }
   ],
   "source": [
    "udn_preds = CountVectorizer_MultinomialNB(udn_train, udn_test['內容'])"
   ]
  },
  {
   "cell_type": "code",
   "execution_count": 46,
   "metadata": {},
   "outputs": [],
   "source": [
    "udn_preds2 = list(udn_preds)\n",
    "udn_test['立場'] = udn_preds2"
   ]
  },
  {
   "cell_type": "code",
   "execution_count": 53,
   "metadata": {},
   "outputs": [],
   "source": [
    "udn_test.to_csv(\"udn_naive_beyes.csv\", index = False)"
   ]
  },
  {
   "cell_type": "code",
   "execution_count": 60,
   "metadata": {},
   "outputs": [
    {
     "name": "stdout",
     "output_type": "stream",
     "text": [
      "Accuracy score: 0.3541666666666667\n",
      "Precision score: 0.3541666666666667\n",
      "Recall score: 0.3541666666666667\n"
     ]
    },
    {
     "data": {
      "image/png": "[encoded data removed]",
      "text/plain": [
       "<Figure size 432x288 with 1 Axes>"
      ]
     },
     "metadata": {
      "needs_background": "light"
     },
     "output_type": "display_data"
    }
   ],
   "source": [
    "bbc_preds = CountVectorizer_MultinomialNB(bbc_train, bbc_test['內容'])\n"
   ]
  },
  {
   "cell_type": "code",
   "execution_count": 49,
   "metadata": {},
   "outputs": [],
   "source": [
    "bbc_preds2 = list(bbc_preds)\n",
    "bbc_test['立場'] = bbc_preds2"
   ]
  },
  {
   "cell_type": "code",
   "execution_count": 54,
   "metadata": {},
   "outputs": [],
   "source": [
    "bbc_test.to_csv(\"bbc_naive_beyes.csv\", index = False)"
   ]
  },
  {
   "cell_type": "markdown",
   "metadata": {},
   "source": [
    "## Tf-idf"
   ]
  },
  {
   "cell_type": "code",
   "execution_count": 14,
   "metadata": {},
   "outputs": [],
   "source": [
    "from sklearn.feature_extraction.text import  TfidfVectorizer\n",
    "vectorizer = TfidfVectorizer(binary = False, decode_error = 'ignore')"
   ]
  },
  {
   "cell_type": "code",
   "execution_count": 18,
   "metadata": {
    "scrolled": true
   },
   "outputs": [
    {
     "name": "stdout",
     "output_type": "stream",
     "text": [
      "4 月\n",
      "科技     0.330511\n",
      "金融     0.308062\n",
      "陳茂波    0.255508\n",
      "內地     0.244236\n",
      "香港     0.225232\n",
      "市場     0.220341\n",
      "國際     0.176035\n",
      "大灣區    0.165256\n",
      "中心     0.165256\n",
      "港澳     0.146542\n",
      "Name: 0, dtype: float64\n",
      "---------------------------------------------------------\n",
      "5 月\n",
      "修例     0.468580\n",
      "香港     0.219569\n",
      "邱騰華    0.214286\n",
      "解釋     0.214286\n",
      "投資     0.175718\n",
      "情況     0.142857\n",
      "美國     0.142857\n",
      "公眾     0.142857\n",
      "民主派    0.142857\n",
      "政府     0.127127\n",
      "Name: 0, dtype: float64\n",
      "---------------------------------------------------------\n",
      "6 月\n",
      "六四      0.289912\n",
      "台灣      0.255073\n",
      "民運      0.225487\n",
      "六四事件    0.198927\n",
      "三十年     0.193275\n",
      "蔡英文     0.175456\n",
      "政治      0.163240\n",
      "中國      0.161663\n",
      "八九      0.161062\n",
      "民主      0.154366\n",
      "Name: 0, dtype: float64\n",
      "---------------------------------------------------------\n",
      "7 月\n",
      "顧汝德    0.492435\n",
      "年輕人    0.158832\n",
      "政府     0.153755\n",
      "管治     0.140253\n",
      "大學     0.139932\n",
      "社會     0.136338\n",
      "青年     0.127653\n",
      "林鄭     0.119872\n",
      "專訪     0.115983\n",
      "香港     0.112393\n",
      "Name: 0, dtype: float64\n",
      "---------------------------------------------------------\n",
      "8 月\n",
      "大陸      0.583150\n",
      "台灣      0.443529\n",
      "蔡英文     0.220490\n",
      "政策      0.168235\n",
      "惠台      0.141452\n",
      "經濟      0.135833\n",
      "農產品     0.134285\n",
      "政治      0.120125\n",
      "陸客      0.117877\n",
      "兩岸關係    0.081175\n",
      "Name: 0, dtype: float64\n",
      "---------------------------------------------------------\n",
      "9 月\n",
      "太子     0.265721\n",
      "徐淑儀    0.222892\n",
      "警方     0.201065\n",
      "列車     0.189268\n",
      "汽油彈    0.177972\n",
      "被捕     0.166095\n",
      "旺角     0.153959\n",
      "總區     0.150915\n",
      "將傷者    0.137736\n",
      "月台     0.134627\n",
      "Name: 0, dtype: float64\n",
      "---------------------------------------------------------\n",
      "10 月\n",
      "社會     0.260779\n",
      "困局     0.192243\n",
      "張建宗    0.187668\n",
      "解決     0.177002\n",
      "機遇     0.164064\n",
      "方法     0.140898\n",
      "香港     0.139212\n",
      "秩序     0.136036\n",
      "國慶     0.135613\n",
      "當前     0.117662\n",
      "Name: 0, dtype: float64\n",
      "---------------------------------------------------------\n",
      "11 月\n",
      "警方    0.354769\n",
      "進入    0.298312\n",
      "大堂    0.216560\n",
      "拘捕    0.209667\n",
      "暴徒    0.173724\n",
      "逃走    0.153173\n",
      "被捕    0.143882\n",
      "大廈    0.140139\n",
      "生閣    0.131823\n",
      "跪下    0.131823\n",
      "Name: 0, dtype: float64\n",
      "---------------------------------------------------------\n"
     ]
    }
   ],
   "source": [
    "for i in range(4,12):\n",
    "    tfidf = vectorizer.fit_transform(hk[\"jieba_sentence\"][(hk['日期'] <= pd.datetime(2019,i,30)) & (hk['日期'] >= pd.datetime(2019,i,1))]).toarray()\n",
    "    tfidf_name = vectorizer.get_feature_names()\n",
    "    tfidf_df = pd.DataFrame(tfidf,columns = tfidf_name)\n",
    "    print(i,'月')\n",
    "    print(tfidf_df.iloc[0,:][tfidf_df.iloc[0,:]>0].sort_values(ascending = False).head(10))\n",
    "    print('---------------------------------------------------------')\n",
    "    "
   ]
  },
  {
   "cell_type": "code",
   "execution_count": 19,
   "metadata": {
    "scrolled": true
   },
   "outputs": [
    {
     "name": "stdout",
     "output_type": "stream",
     "text": [
      "4 月\n",
      "中國      0.220794\n",
      "普京      0.201049\n",
      "舉行      0.201049\n",
      "肖揚      0.201049\n",
      "海上      0.201049\n",
      "一帶一路    0.201049\n",
      "論壇      0.168495\n",
      "朝鮮      0.150787\n",
      "前院      0.150787\n",
      "領導人     0.150787\n",
      "Name: 0, dtype: float64\n",
      "---------------------------------------------------------\n",
      "5 月\n",
      "談判     0.504219\n",
      "貿易     0.277625\n",
      "特朗普    0.239414\n",
      "股市     0.208219\n",
      "團隊     0.208219\n",
      "市場     0.191273\n",
      "中國     0.176748\n",
      "美國     0.169850\n",
      "中方     0.149634\n",
      "關稅     0.138813\n",
      "Name: 0, dtype: float64\n",
      "---------------------------------------------------------\n",
      "6 月\n",
      "許穎婷    0.399414\n",
      "香港     0.321650\n",
      "內地     0.319893\n",
      "宏基     0.211455\n",
      "學生     0.203503\n",
      "同學     0.180371\n",
      "中國     0.178713\n",
      "文章     0.176362\n",
      "認同     0.162334\n",
      "身份     0.130824\n",
      "Name: 0, dtype: float64\n",
      "---------------------------------------------------------\n",
      "7 月\n",
      "元朗      0.431086\n",
      "居民      0.380370\n",
      "新界      0.236767\n",
      "香港      0.207381\n",
      "港英政府    0.136807\n",
      "丁屋      0.113573\n",
      "基本法     0.106248\n",
      "鄉村      0.102605\n",
      "房屋      0.094823\n",
      "建制派     0.081249\n",
      "Name: 0, dtype: float64\n",
      "---------------------------------------------------------\n",
      "8 月\n",
      "新加坡     0.613327\n",
      "香港      0.260876\n",
      "本土意識    0.160950\n",
      "管治      0.137157\n",
      "鄺健銘     0.128760\n",
      "對象      0.128760\n",
      "莊嘉穎     0.128760\n",
      "統治      0.117625\n",
      "政治      0.099559\n",
      "選舉      0.096699\n",
      "Name: 0, dtype: float64\n",
      "---------------------------------------------------------\n",
      "9 月\n",
      "港交所    0.487988\n",
      "交易     0.350491\n",
      "倫敦     0.310839\n",
      "交易所    0.283968\n",
      "倫交所    0.209138\n",
      "李小加    0.174282\n",
      "英國     0.149526\n",
      "證交所    0.139425\n",
      "集團     0.112995\n",
      "便士     0.104569\n",
      "Name: 0, dtype: float64\n",
      "---------------------------------------------------------\n",
      "10 月\n",
      "顏色革命    0.395663\n",
      "革命      0.219813\n",
      "變革      0.219813\n",
      "香港      0.192106\n",
      "中國      0.185975\n",
      "西方      0.171939\n",
      "顛覆      0.145633\n",
      "抗議      0.137706\n",
      "1989    0.137551\n",
      "發生      0.136917\n",
      "Name: 0, dtype: float64\n",
      "---------------------------------------------------------\n",
      "11 月\n",
      "美國           0.295445\n",
      "香港           0.255775\n",
      "選舉           0.244808\n",
      "香港人權與民主法案    0.239384\n",
      "法案           0.174655\n",
      "區議會          0.131969\n",
      "美國國會         0.124527\n",
      "文章           0.124527\n",
      "私利           0.120583\n",
      "楊潔篪          0.120583\n",
      "Name: 0, dtype: float64\n",
      "---------------------------------------------------------\n"
     ]
    }
   ],
   "source": [
    "for i in range(4,12):\n",
    "    tfidf = vectorizer.fit_transform(bbc[\"jieba_sentence\"][(bbc['日期'] <= pd.datetime(2019,i,30)) & (bbc['日期'] >= pd.datetime(2019,i,1))]).toarray()\n",
    "    tfidf_name = vectorizer.get_feature_names()\n",
    "    tfidf_df = pd.DataFrame(tfidf,columns = tfidf_name)\n",
    "    print(i,'月')\n",
    "    print(tfidf_df.iloc[0,:][tfidf_df.iloc[0,:]>0].sort_values(ascending = False).head(10))\n",
    "    print('---------------------------------------------------------')\n",
    "    "
   ]
  },
  {
   "cell_type": "code",
   "execution_count": 20,
   "metadata": {
    "scrolled": true
   },
   "outputs": [
    {
     "name": "stdout",
     "output_type": "stream",
     "text": [
      "4 月\n",
      "進會      0.259019\n",
      "台方      0.247249\n",
      "會和策     0.194264\n",
      "女友      0.177923\n",
      "陳同佳     0.172492\n",
      "協進      0.170352\n",
      "兩會      0.161817\n",
      "交流      0.154601\n",
      "林鄭月娥    0.154536\n",
      "回信      0.142163\n",
      "Name: 0, dtype: float64\n",
      "---------------------------------------------------------\n",
      "5 月\n",
      "動議     0.341965\n",
      "林太     0.216321\n",
      "信任     0.196075\n",
      "票反     0.167288\n",
      "該動議    0.167288\n",
      "組別     0.167288\n",
      "贊成票    0.167288\n",
      "否決     0.153791\n",
      "上任     0.153791\n",
      "尹兆堅    0.144214\n",
      "Name: 0, dtype: float64\n",
      "---------------------------------------------------------\n",
      "6 月\n",
      "韓特        0.333126\n",
      "英國        0.263669\n",
      "更顯        0.243283\n",
      "不移        0.231344\n",
      "抗爭        0.230016\n",
      "密切        0.222084\n",
      "紀念        0.208121\n",
      "移交        0.192335\n",
      "中英聯合聲明    0.189364\n",
      "承諾        0.173815\n",
      "Name: 0, dtype: float64\n",
      "---------------------------------------------------------\n",
      "7 月\n",
      "巴士     0.548837\n",
      "調景嶺    0.329851\n",
      "免費     0.274876\n",
      "穿梭     0.236253\n",
      "等候     0.143959\n",
      "港鐵     0.141420\n",
      "堵塞     0.139296\n",
      "乘客     0.130059\n",
      "人龍     0.123928\n",
      "大塞車    0.118127\n",
      "Name: 0, dtype: float64\n",
      "---------------------------------------------------------\n",
      "8 月\n",
      "未經      0.356222\n",
      "集結      0.274058\n",
      "批准      0.274058\n",
      "浩天      0.210483\n",
      "香港眾志    0.190657\n",
      "黃之鋒     0.185050\n",
      "相繼      0.176955\n",
      "明知      0.170429\n",
      "武器      0.165545\n",
      "煽惑      0.165098\n",
      "Name: 0, dtype: float64\n",
      "---------------------------------------------------------\n",
      "9 月\n",
      "港澳辦    0.496286\n",
      "主任     0.328493\n",
      "張曉明    0.301675\n",
      "中聯辦    0.201311\n",
      "中共     0.196507\n",
      "招待     0.160674\n",
      "國務院    0.159224\n",
      "國安辦    0.135521\n",
      "下屬     0.124455\n",
      "協調     0.120505\n",
      "Name: 0, dtype: float64\n",
      "---------------------------------------------------------\n",
      "10 月\n",
      "武警     0.430814\n",
      "灣體育    0.375421\n",
      "美聯社    0.313882\n",
      "深圳     0.253245\n",
      "模擬     0.250281\n",
      "演習     0.250281\n",
      "卅日     0.234849\n",
      "一組     0.234849\n",
      "中心     0.190525\n",
      "當天     0.166654\n",
      "Name: 0, dtype: float64\n",
      "---------------------------------------------------------\n",
      "11 月\n",
      "催淚     0.337783\n",
      "吸入     0.270021\n",
      "健康     0.251589\n",
      "焚燒     0.216440\n",
      "評估     0.168891\n",
      "運動     0.165583\n",
      "探討應    0.150765\n",
      "肇始     0.150765\n",
      "一萬枚    0.150765\n",
      "及衛     0.150765\n",
      "Name: 0, dtype: float64\n",
      "---------------------------------------------------------\n"
     ]
    }
   ],
   "source": [
    "for i in range(4,12):\n",
    "    tfidf = vectorizer.fit_transform(udn[\"jieba_sentence\"][(udn['日期'] <= pd.datetime(2019,i,30)) & (udn['日期'] >= pd.datetime(2019,i,1))]).toarray()\n",
    "    tfidf_name = vectorizer.get_feature_names()\n",
    "    tfidf_df = pd.DataFrame(tfidf,columns = tfidf_name)\n",
    "    print(i,'月')\n",
    "    print(tfidf_df.iloc[0,:][tfidf_df.iloc[0,:]>0].sort_values(ascending = False).head(10))\n",
    "    print('---------------------------------------------------------')\n",
    "    "
   ]
  },
  {
   "cell_type": "code",
   "execution_count": null,
   "metadata": {},
   "outputs": [],
   "source": []
  }
 ],
 "metadata": {
  "kernelspec": {
   "display_name": "Python 3",
   "language": "python",
   "name": "python3"
  },
  "language_info": {
   "codemirror_mode": {
    "name": "ipython",
    "version": 3
   },
   "file_extension": ".py",
   "mimetype": "text/x-python",
   "name": "python",
   "nbconvert_exporter": "python",
   "pygments_lexer": "ipython3",
   "version": "3.7.3"
  }
 },
 "nbformat": 4,
 "nbformat_minor": 2
}
